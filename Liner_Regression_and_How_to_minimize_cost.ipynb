{
 "cells": [
  {
   "cell_type": "code",
   "execution_count": 13,
   "metadata": {},
   "outputs": [],
   "source": [
    "import tensorflow as tf\n",
    "import numpy as np\n",
    "import matplotlib.pyplot as plt"
   ]
  },
  {
   "cell_type": "code",
   "execution_count": 3,
   "metadata": {},
   "outputs": [],
   "source": [
    "# data\n",
    "X = np.array([1,2,3])\n",
    "Y = np.array([1,2,3])\n",
    "\n",
    "def cost_func(W, X, Y):\n",
    "    c = 0\n",
    "    for i in range(len(X)):\n",
    "        c = (W * X[i] -Y[i]) ** 2\n",
    "    return c / len(X)"
   ]
  },
  {
   "cell_type": "code",
   "execution_count": 5,
   "metadata": {},
   "outputs": [
    {
     "name": "stdout",
     "output_type": "stream",
     "text": [
      "-3.000 |   48.00000\n",
      "-2.429 |   35.26531\n",
      "-1.857 |   24.48980\n",
      "-1.286 |   15.67347\n",
      "-0.714 |    8.81633\n",
      "-0.143 |    3.91837\n",
      " 0.429 |    0.97959\n",
      " 1.000 |    0.00000\n",
      " 1.571 |    0.97959\n",
      " 2.143 |    3.91837\n",
      " 2.714 |    8.81633\n",
      " 3.286 |   15.67347\n",
      " 3.857 |   24.48980\n",
      " 4.429 |   35.26531\n",
      " 5.000 |   48.00000\n"
     ]
    }
   ],
   "source": [
    "W_values = np.linspace(-3, 5, num=15)\n",
    "cost_values = []\n",
    "\n",
    "for feed_W in W_values:\n",
    "    curr_cost = cost_func(feed_W, X, Y)\n",
    "    cost_values.append(curr_cost)\n",
    "    print(\"{:6.3f} | {:10.5f}\".format(feed_W, curr_cost))"
   ]
  },
  {
   "cell_type": "code",
   "execution_count": 9,
   "metadata": {},
   "outputs": [
    {
     "data": {
      "image/png": "[encoded data removed]",
      "text/plain": [
       "<Figure size 432x288 with 1 Axes>"
      ]
     },
     "metadata": {
      "needs_background": "light"
     },
     "output_type": "display_data"
    }
   ],
   "source": [
    "plt.plot(W_values, cost_values)\n",
    "plt.show()"
   ]
  },
  {
   "cell_type": "markdown",
   "metadata": {},
   "source": [
    "## Gradient decent optimize"
   ]
  },
  {
   "cell_type": "code",
   "execution_count": 19,
   "metadata": {},
   "outputs": [
    {
     "name": "stdout",
     "output_type": "stream",
     "text": [
      "    0 | 23689.6855 | -66.923653\n",
      "   10 |  9108.6680 | -41.118107\n",
      "   20 |  3502.2783 | -25.116604\n",
      "   30 |  1346.6232 | -15.194384\n",
      "   40 |   517.7757 |  -9.041816\n",
      "   50 |   199.0844 |  -5.226730\n",
      "   60 |    76.5478 |  -2.861072\n",
      "   70 |    29.4326 |  -1.394174\n",
      "   80 |    11.3168 |  -0.484580\n",
      "   90 |     4.3513 |   0.079442\n",
      "  100 |     1.6731 |   0.429180\n",
      "  110 |     0.6433 |   0.646046\n",
      "  120 |     0.2473 |   0.780520\n",
      "  130 |     0.0951 |   0.863905\n",
      "  140 |     0.0366 |   0.915610\n",
      "  150 |     0.0141 |   0.947672\n",
      "  160 |     0.0054 |   0.967552\n",
      "  170 |     0.0021 |   0.979880\n",
      "  180 |     0.0008 |   0.987524\n",
      "  190 |     0.0003 |   0.992264\n",
      "  200 |     0.0001 |   0.995203\n",
      "  210 |     0.0000 |   0.997025\n",
      "  220 |     0.0000 |   0.998156\n",
      "  230 |     0.0000 |   0.998856\n",
      "  240 |     0.0000 |   0.999291\n",
      "  250 |     0.0000 |   0.999560\n",
      "  260 |     0.0000 |   0.999727\n",
      "  270 |     0.0000 |   0.999831\n",
      "  280 |     0.0000 |   0.999895\n",
      "  290 |     0.0000 |   0.999935\n"
     ]
    }
   ],
   "source": [
    "x_data = [1., 2., 3., 4.]\n",
    "y_data = [1., 3., 5., 7.]\n",
    "\n",
    "W = tf.Variable(tf.random.normal([1],0, 100))\n",
    "\n",
    "for step in range(300):\n",
    "    hypothesis = W * X\n",
    "    cost = tf.reduce_mean(tf.square(hypothesis - Y))\n",
    "    \n",
    "    alpha = 0.01\n",
    "    gradient = tf.reduce_mean(tf.multiply(tf.multiply(W, X) - Y, X))\n",
    "    descent = W - tf.multiply(alpha, gradient)\n",
    "    W.assign(descent)\n",
    "    \n",
    "    if step % 10 == 0:\n",
    "        print('{:5} | {:10.4f} | {:10.6f}'.format(step, cost.numpy(), W.numpy()[0]))\n",
    "    "
   ]
  },
  {
   "cell_type": "code",
   "execution_count": 15,
   "metadata": {},
   "outputs": [
    {
     "data": {
      "text/plain": [
       "'2.0.0'"
      ]
     },
     "execution_count": 15,
     "metadata": {},
     "output_type": "execute_result"
    }
   ],
   "source": [
    "tf.__version__"
   ]
  }
 ],
 "metadata": {
  "kernelspec": {
   "display_name": "Python 3",
   "language": "python",
   "name": "python3"
  },
  "language_info": {
   "codemirror_mode": {
    "name": "ipython",
    "version": 3
   },
   "file_extension": ".py",
   "mimetype": "text/x-python",
   "name": "python",
   "nbconvert_exporter": "python",
   "pygments_lexer": "ipython3",
   "version": "3.7.4"
  }
 },
 "nbformat": 4,
 "nbformat_minor": 2
}
