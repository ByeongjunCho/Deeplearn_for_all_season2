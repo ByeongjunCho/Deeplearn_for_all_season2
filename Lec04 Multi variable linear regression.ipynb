{
 "cells": [
  {
   "cell_type": "code",
   "execution_count": 1,
   "metadata": {},
   "outputs": [],
   "source": [
    "import tensorflow as tf\n",
    "import numpy as np\n",
    "import matplotlib.pyplot as plt"
   ]
  },
  {
   "cell_type": "code",
   "execution_count": 4,
   "metadata": {},
   "outputs": [
    {
     "name": "stdout",
     "output_type": "stream",
     "text": [
      "    0 |  1826.7666\n",
      "  100 |    14.9594\n",
      "  200 |    14.3302\n",
      "  300 |    13.7338\n",
      "  400 |    13.1688\n",
      "  500 |    12.6334\n",
      "  600 |    12.1259\n",
      "  700 |    11.6451\n",
      "  800 |    11.1894\n",
      "  900 |    10.7575\n",
      " 1000 |    10.3482\n",
      " 1100 |     9.9603\n",
      " 1200 |     9.5927\n",
      " 1300 |     9.2442\n",
      " 1400 |     8.9140\n",
      " 1500 |     8.6009\n",
      " 1600 |     8.3042\n",
      " 1700 |     8.0229\n",
      " 1800 |     7.7562\n",
      " 1900 |     7.5034\n",
      " 2000 |     7.2638\n"
     ]
    }
   ],
   "source": [
    "x1 = [73., 93., 89., 96., 73.]\n",
    "x2 = [80., 88., 91., 98., 66.]\n",
    "x3 = [75., 93., 90., 100., 70.]\n",
    "Y = [157., 185., 180., 196., 142.]\n",
    "\n",
    "# weights\n",
    "w1 = tf.Variable(tf.random.normal([1]))\n",
    "w2 = tf.Variable(tf.random.normal([1]))\n",
    "w3 = tf.Variable(tf.random.normal([1]))\n",
    "b = tf.Variable(tf.random.normal([1]))\n",
    "\n",
    "learning_rate = 0.00001\n",
    "\n",
    "n_epochs = 2000\n",
    "for i in range(n_epochs + 1):\n",
    "    with tf.GradientTape() as tape:\n",
    "        hypothesis = w1 * x1 + w2 * x2 + w3 * x3 + b\n",
    "        cost = tf.reduce_mean(tf.square(hypothesis - Y))\n",
    "    w1_grad, w2_grad, w3_grad, b_grad = tape.gradient(cost, [w1, w2, w3, b])\n",
    "    \n",
    "    # update w1, w2, w3 and b\n",
    "    w1.assign_sub(learning_rate * w1_grad)\n",
    "    w2.assign_sub(learning_rate * w2_grad)\n",
    "    w3.assign_sub(learning_rate * w3_grad)\n",
    "    b.assign_sub(learning_rate * b_grad)\n",
    "    \n",
    "    if i % 100 == 0:\n",
    "        print(\"{:5} | {:10.4f}\".format(i, cost.numpy()))"
   ]
  },
  {
   "cell_type": "markdown",
   "metadata": {},
   "source": [
    "## Matrix 연산"
   ]
  },
  {
   "cell_type": "code",
   "execution_count": null,
   "metadata": {},
   "outputs": [],
   "source": [
    "data = np.array([x1, x2, x3, Y])\n",
    "\n",
    "X = data[:, :-1]\n",
    "Y = data[:, [-1]]\n",
    "\n",
    "W = tf.Variable(tf.random.normal([3,1]))\n",
    "b = tf.Variable(tf.random.normal([1]))\n",
    "\n",
    "# hypothesis, prediction function\n",
    "def predict(X):\n",
    "    return tf.matmul(X, W) + b\n",
    "\n",
    "for i in range(10001):\n",
    "    with tf.GradientTape() as tape:\n",
    "        cost = cost = tf.reduce_mean(tf.square(predict(X) - Y))\n",
    "\n",
    "    w_grad, b_grad = tape.gradient(cost, [W, b])\n",
    "\n",
    "    # update parameters(W and b)\n",
    "    W.assign_sub(learning_rate * w_grad)\n",
    "    b.assign_sub(learning_rate * b_grad)\n",
    "    \n",
    "    if i % 100 == 0:\n",
    "        print(\"{:5} | {:10.4f}\".format(i, cost.numpy()))"
   ]
  }
 ],
 "metadata": {
  "kernelspec": {
   "display_name": "Python 3",
   "language": "python",
   "name": "python3"
  },
  "language_info": {
   "codemirror_mode": {
    "name": "ipython",
    "version": 3
   },
   "file_extension": ".py",
   "mimetype": "text/x-python",
   "name": "python",
   "nbconvert_exporter": "python",
   "pygments_lexer": "ipython3",
   "version": "3.7.4"
  }
 },
 "nbformat": 4,
 "nbformat_minor": 2
}
